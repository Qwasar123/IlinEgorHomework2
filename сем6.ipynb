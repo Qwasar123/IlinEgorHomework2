# Задание 1
list1 = [31, 24, 17]
list2 = list1.copy()
list3 = list(range(31, 16, -7))
list_combined = [list1, list2, list3]
print(list1, list2, list3, list_combined)
     

# Задание 2.1
user_input = input("Введите ст-ку: ")
list_chars = list(user_input)
print(list_chars)
     

# Задание 2.2
list_words = user_input.split()
print(list_words)
     

# Задание 2.3
list_digits = [char for char in user_input if char.isdigit()]
print(list_digits)
     

# Задание 3
lst = ['input', 'string', 'repeat', 3]
if lst[-2] == 'repeat' and isinstance(lst[-1], int):
    lst = lst[:-2] * lst[-1] + lst[-2:]
print(lst)
     

# Задание 4
s1 = "test"
s2 = "apple"
order_string = "идет после" if s1 > s2 else "идет до"
output = input("Введите 'lengths' или 'order': ")
if output == 'lengths':
    print(f"Длины строк: {len(s1)} и {len(s2)}")
elif output == 'order':
    print(f"Строка '{s1}' {order_string} строки '{s2}'")
     

# Задание 5.1
max_val = int(input("Введите значение max_val: "))
repeat = int(input("Введите значение repeat: "))
list_5_1 = [i for i in range(1, max_val+1)] * repeat
print(list_5_1)
     

# Задание 5.2
max_val = 10  # задано ус-ем
list_original = [i for i in range(1, max_val+1)] * repeat
list_copy = list_original.copy()
middle_cut = int(0.8 * len(list_copy))
start = middle_cut // 2
end = len(list_copy) - (middle_cut - start)
list_copy = list_copy[:start] + list_copy[end:]
remaining_elements = [i for i in list_original if i not in list_copy]
multiplied_elements = [i*10 for i in remaining_elements]
print(list_copy)
print(multiplied_elements)
     

# Задание 6
string_6 = "test_Stringss"
list_6 = []
for i in range(len(string_6)):
    if string_6[i].lower() == 's' and i != 0 and i != len(string_6)-1:
        list_6.append(string_6[i-1]*2 + string_6[i+1])
    else:
        list_6.append(string_6[i])
print(list_6)
     

# Задание 7
import math

length = int(input("Введите длину списка: "))
list_7 = []
for _ in range(length):
    item = input("Введите элемент: ")
    if item.isdigit() or item.replace('.', '', 1).isdigit():
        list_7.append(math.ceil(float(item)))
    elif item.lower() == "true":
        list_7.append(True)
    elif item.lower() == "false":
        list_7.append(False)
    else:
        list_7.append(item)
print(list_7)
     

# Задание 8
string1 = "один два три"
string2 = "понедельник вторник среда"
words1 = string1.split()
words2 = string2.split()
result_list = []
for w1, w2 in zip(words1, words2):
    result_list.append(w1)
    result_list.append(w2)
result = ' '.join(result_list)
print(result)
     

# Задание 9
string1 = "один два три"
string2 = "понедельник вторник среда"
words1 = string1.split()
words2 = string2.split()
result_list = []

# Использование функции zip
for w1, w2 in zip(words1, words2):
    result_list.extend([w1, w2])

# Добавляем оставшиеся слова, если одна из строк длиннее
if len(words1) > len(words2):
    result_list.extend(words1[len(words2):])
elif len(words2) > len(words1):
    result_list.extend(words2[len(words1):])

result = ' '.join(result_list)
print(result)
     

# Задание 10
string_10 = input("Введите строку: ")
shift = int(input("Введите число для циклического сдвига: "))
words_10 = string_10.split()
shifted_words = words_10[-shift:] + words_10[:-shift]
shifted_string = ' '.join(shifted_words)
print(shifted_string)
     

# Задание 11
def get_prime_factors(n):
    i = 2
    factors = []
    while i * i <= n:
        if n % i:
            i += 1
        else:
            n //= i
            factors.append(i)
    if n > 1:
        factors.append(n)
    return factors

lst = [3, 6, 7, 12]
new_lst = []

for num in lst:
    if num in [2, 3, 5, 7, 11, 13, 17, 19]:
        new_lst.append(num)
    else:
        new_lst.extend(get_prime_factors(num))

print(new_lst)
     

# Задание 12
lst = [3, 1, 7, 4, 5, 5, 8]
unique_vals = {x:lst.count(x) for x in lst}
val = [k for k,v in unique_vals.items() if v==1][-1]

print(val)
     

# Задание 14
lst_nums = [0, 1, 2, 1, 3, 4, 1, 5]
index_second_last_one = len(lst_nums) - 1 - lst_nums[::-1].index(1) - lst_nums[::-1][lst_nums[::-1].index(1)+1:].index(1)
print(index_second_last_one)
     

# Задание 15
def matrix_multiply(A, B):
    result = [[0 for _ in range(len(B[0]))] for _ in range(len(A))]
    for i in range(len(A)):
        for j in range(len(B[0])):
            for k in range(len(B)):
                result[i][j] += A[i][k] * B[k][j]
    return result

matrix = [[1,2], [3,4]]
identity_matrix = [[1,0], [0,1]]
print(matrix_multiply(matrix, identity_matrix))
     

# Задание 16
import copy
original_matrix = [[1, 2], [3, 4]]
copied_matrix = copy.deepcopy(original_matrix)
     

# Задание 17
string = 'дыня яблоко арбуз апельсин'
sorted_string = ' '.join(sorted(string.split()))
print(sorted_string)
     

# Задание 18
lsls = [[1,2,3],['a', 'b'], [30, 40, 50, 60]]
min_length = min([len(l) for l in lsls])
result = []
leftovers = []

for i in range(min_length):
    for l in lsls:
        result.append(l[i])

for l in lsls:
    leftovers.extend(l[min_length:])

print(result, leftovers)
     