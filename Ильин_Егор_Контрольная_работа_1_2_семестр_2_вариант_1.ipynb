{
  "metadata": {
    "kernelspec": {
      "name": "python",
      "display_name": "Python (Pyodide)",
      "language": "python"
    },
    "language_info": {
      "codemirror_mode": {
        "name": "python",
        "version": 3
      },
      "file_extension": ".py",
      "mimetype": "text/x-python",
      "name": "python",
      "nbconvert_exporter": "python",
      "pygments_lexer": "ipython3",
      "version": "3.8"
    }
  },
  "nbformat_minor": 4,
  "nbformat": 4,
  "cells": [
    {
      "cell_type": "markdown",
      "source": "### Контрольная работа № 1.\n### Вариант 2.\n#### Студент Ильин Егор Андреевич  группа ТРПО23-2",
      "metadata": {}
    },
    {
      "cell_type": "markdown",
      "source": "1. Напишите программу, которая выполняет добавление, удаление и вывод на экран элементов списка при помощи классов. \n\nРешение задачи\n\n1.\tСоздаем класс и с помощью конструктора инициализируем значения этого класса.\n2.\tСоздаем в данном классе методы для добавления, удаления и вывода на экран соответствующих значений.\n3.\tСоздаем объект данного класса.\n4.\tИспользуя созданный объект, вызываем соответствующий метод (в зависимости от выбора пользователя).\n5.\tВыводим результат на экран.\n6.\tКонец.\n\nВ программе реализовать выбор с помощью меню:\n\nprint(\"0. Выход\")\n\nprint(\"1. Добавить\")\n\nprint(\"2. Удалить\")\n\nprint(\"3. Вывести на экран\")\n\nchoice = int(input(\"Выберите одно из этих значений: \"))\n\n",
      "metadata": {}
    },
    {
      "cell_type": "code",
      "source": "# Решение 1.\nclass ListManager:\n    def __init__(self):\n        self.my_list = []\n\n    def add_element(self, element):\n        self.my_list.append(element)\n\n    def remove_element(self, element):\n        if element in self.my_list:\n            self.my_list.remove(element)\n        else:\n            print(\"Элемент не найден в списке.\")\n\n    def display_list(self):\n        print(\"Элементы списка:\")\n        for element in self.my_list:\n            print(element)\n\n# Создаем объект класса ListManager\nlist_manager = ListManager()\n\nwhile True:\n    print(\"0. Выход\")\n    print(\"1. Добавить\")\n    print(\"2. Удалить\")\n    print(\"3. Вывести на экран\")\n\n    choice = int(input(\"Выберите одно из этих значений: \"))\n\n    if choice == 0:\n        break\n    elif choice == 1:\n        element = input(\"Введите элемент для добавления: \")\n        list_manager.add_element(element)\n    elif choice == 2:\n        element = input(\"Введите элемент для удаления: \")\n        list_manager.remove_element(element)\n    elif choice == 3:\n        list_manager.display_list()\n    else:\n        print(\"Неверный выбор. Попробуйте снова.\")",
      "metadata": {
        "trusted": true
      },
      "outputs": [
        {
          "name": "stdout",
          "text": "0. Выход\n1. Добавить\n2. Удалить\n3. Вывести на экран\n",
          "output_type": "stream"
        },
        {
          "ename": "<class 'TypeError'>",
          "evalue": "int() argument must be a string, a bytes-like object or a real number, not 'PyodideFuture'",
          "traceback": [
            "\u001b[0;31m---------------------------------------------------------------------------\u001b[0m",
            "\u001b[0;31mTypeError\u001b[0m                                 Traceback (most recent call last)",
            "Cell \u001b[0;32mIn[1], line 29\u001b[0m\n\u001b[1;32m     26\u001b[0m \u001b[38;5;28mprint\u001b[39m(\u001b[38;5;124m\"\u001b[39m\u001b[38;5;124m2. Удалить\u001b[39m\u001b[38;5;124m\"\u001b[39m)\n\u001b[1;32m     27\u001b[0m \u001b[38;5;28mprint\u001b[39m(\u001b[38;5;124m\"\u001b[39m\u001b[38;5;124m3. Вывести на экран\u001b[39m\u001b[38;5;124m\"\u001b[39m)\n\u001b[0;32m---> 29\u001b[0m choice \u001b[38;5;241m=\u001b[39m \u001b[38;5;28;43mint\u001b[39;49m\u001b[43m(\u001b[49m\u001b[38;5;28;43minput\u001b[39;49m\u001b[43m(\u001b[49m\u001b[38;5;124;43m\"\u001b[39;49m\u001b[38;5;124;43mВыберите одно из этих значений: \u001b[39;49m\u001b[38;5;124;43m\"\u001b[39;49m\u001b[43m)\u001b[49m\u001b[43m)\u001b[49m\n\u001b[1;32m     31\u001b[0m \u001b[38;5;28;01mif\u001b[39;00m choice \u001b[38;5;241m==\u001b[39m \u001b[38;5;241m0\u001b[39m:\n\u001b[1;32m     32\u001b[0m     \u001b[38;5;28;01mbreak\u001b[39;00m\n",
            "\u001b[0;31mTypeError\u001b[0m: int() argument must be a string, a bytes-like object or a real number, not 'PyodideFuture'"
          ],
          "output_type": "error"
        },
        {
          "output_type": "stream",
          "name": "stdin",
          "text": "Выберите одно из этих значений:  1\n"
        }
      ],
      "execution_count": 1
    },
    {
      "cell_type": "markdown",
      "source": "2. Используя класс People в качестве базового, создайте класс Сотрудник (Worker), имеющий свойства:\n\n• должность (post)\n\n• зарплата (salary)\n\nметоды:\n\n• __init__ – конструктор;\n\n• __str__ – аналогично методу класса Teacher из примера.\n\nИспользуя класс Сотрудник в качестве базового создайте класс Преподаватель (Teacher), имеющий:\n\n• закрытый атрибут дисциплины (disciplines), в котором хранятся названия дисциплин, которые ведет преподаватель;\n\n• методы __init__ и __str__;\n\n• методы добавить_дисциплину (add_dis) и удалить_дисциплину (delete_dis), которые позволяют изменять список дисциплин.\n\nСоздайте список, содержащий по 2 объекта каждого класса (People, Worker, Teacher). Для этого списка:\n\n• выведите информацию о каждом человеке с помощью метода info;\n\n• выведите фамилии тех, кто моложе 30 лет;\n\n• продемонстрируйте работу со свойствами должность и зарплата и методами добавить_дисциплину и удалить_дисциплину.\n",
      "metadata": {}
    },
    {
      "cell_type": "code",
      "source": "# Решение 2.\nclass People:\n    def __init__(self, name, age):\n        self.name = name\n        self.age = age\n\n    def info(self):\n        return f\"Name: {self.name}, Age: {self.age}\"\n\nclass Worker(People):\n    def __init__(self, name, age, post, salary):\n        super().__init__(name, age)\n        self.post = post\n        self.salary = salary\n\n    def __str__(self):\n        return f\"Name: {self.name}, Age: {self.age}, Post: {self.post}, Salary: {self.salary}\"\n\nclass Teacher(Worker):\n    def __init__(self, name, age, post, salary, disciplines=None):\n        super().__init__(name, age, post, salary)\n        if disciplines is None:\n            self.disciplines = []\n        else:\n            self.disciplines = disciplines\n\n    def add_dis(self, discipline):\n        self.disciplines.append(discipline)\n\n    def delete_dis(self, discipline):\n        if discipline in self.disciplines:\n            self.disciplines.remove(discipline)\n        else:\n            print(f\"{discipline} is not in the list of disciplines.\")\n\n    def __str__(self):\n        return f\"Name: {self.name}, Age: {self.age}, Post: {self.post}, Salary: {self.salary}, Disciplines: {', '.join(self.disciplines)}\"\n\n# Создаем объекты\npeople1 = People(\"Alice\", 25)\npeople2 = People(\"Bob\", 30)\nworker1 = Worker(\"Charlie\", 35, \"Manager\", 50000)\nworker2 = Worker(\"David\", 28, \"Developer\", 60000)\nteacher1 = Teacher(\"Eve\", 40, \"Professor\", 70000, [\"Math\", \"Physics\"])\nteacher2 = Teacher(\"Frank\", 27, \"Instructor\", 45000, [\"Chemistry\", \"Biology\"])\n\npeople_list = [people1, people2, worker1, worker2, teacher1, teacher2]\n\n# Вывод информации о каждом человеке\nfor person in people_list:\n    print(person.info())\n\n# Вывод фамилий тех, кто моложе 30 лет\nprint(\"Фамилии тех, кто моложе 30 лет:\")\nfor person in people_list:\n    if person.age < 30:\n        print(person.name)\n\n# Демонстрация работы со свойствами и методами Teacher\nprint(\"\\nДо изменений:\")\nprint(teacher1)\nteacher1.add_dis(\"History\")\nteacher1.delete_dis(\"Physics\")\nprint(\"\\nПосле изменений:\")\nprint(teacher1)\n",
      "metadata": {
        "trusted": true
      },
      "outputs": [
        {
          "name": "stdout",
          "text": "Name: Alice, Age: 25\nName: Bob, Age: 30\nName: Charlie, Age: 35\nName: David, Age: 28\nName: Eve, Age: 40\nName: Frank, Age: 27\nФамилии тех, кто моложе 30 лет:\nAlice\nDavid\nFrank\n\nДо изменений:\nName: Eve, Age: 40, Post: Professor, Salary: 70000, Disciplines: Math, Physics\n\nПосле изменений:\nName: Eve, Age: 40, Post: Professor, Salary: 70000, Disciplines: Math, History\n",
          "output_type": "stream"
        }
      ],
      "execution_count": 2
    },
    {
      "cell_type": "markdown",
      "source": "3.Создайте класс Заказ(Order), у которого есть свойства кодтовара(code), цена(price), количество(count) и методы _init и str.\n\nСоздайте 2 класса-потомка: Опт(Opt) и Розница(Retail). В этих классах создайте методы init, str.и сумма_заказа(summa), позволяющий узнать стоимость заказа. Для опта стоимость единицы товара составляет 95% от цены, а при покупке более 500 штук – 90% цены. В розницу стоимость единицы товара составляет 100% цены. Стоимость заказа равна произведению цены на количество.\n\nПродемонстрируйте работу с классами, создав необходимые объекты и обратившись к их свойствам и методам",
      "metadata": {}
    },
    {
      "cell_type": "code",
      "source": "# Решение 3.\nclass Order:\n    def __init__(self, code, price, count):\n        self.code = code\n        self.price = price\n        self.count = count\n\n    def __str__(self):\n        return f\"Code: {self.code}, Price: {self.price}, Count: {self.count}\"\n\nclass Opt(Order):\n    def __init__(self, code, price, count):\n        super().__init__(code, price, count)\n\n    def summa(self):\n        if self.count > 500:\n            return 0.9 * self.price * self.count\n        else:\n            return 0.95 * self.price * self.count\n\n    def __str__(self):\n        return f\"Code: {self.code}, Price: {self.price}, Count: {self.count}, Total Price: {self.summa()}\"\n\nclass Retail(Order):\n    def __init__(self, code, price, count):\n        super().__init__(code, price, count)\n\n    def summa(self):\n        return self.price * self.count\n\n    def __str__(self):\n        return f\"Code: {self.code}, Price: {self.price}, Count: {self.count}, Total Price: {self.summa()}\"\n\n# Создаем объекты\norder1 = Opt(\"001\", 10, 600)\norder2 = Retail(\"002\", 20, 100)\n\n# Вывод информации о заказах\nprint(order1)\nprint(order2)\n\n# Вывод стоимости заказов\nprint(f\"Total Price for order1: {order1.summa()}\")\nprint(f\"Total Price for order2: {order2.summa()}\")\n",
      "metadata": {
        "trusted": true
      },
      "outputs": [
        {
          "name": "stdout",
          "text": "Code: 001, Price: 10, Count: 600, Total Price: 5400.0\nCode: 002, Price: 20, Count: 100, Total Price: 2000\nTotal Price for order1: 5400.0\nTotal Price for order2: 2000\n",
          "output_type": "stream"
        }
      ],
      "execution_count": 3
    },
    {
      "cell_type": "markdown",
      "source": "4.Написать функцию-генератор my_func_2(lst), которая принимает объект, поддерживающий итерации с произвольным уровнем вложенности, и возвращает все элементы по одному.",
      "metadata": {}
    },
    {
      "cell_type": "code",
      "source": "# Решение 4.\ndef my_func_2(lst):\n    if isinstance(lst, (list, tuple)):\n        for item in lst:\n            yield from my_func_2(item)\n    else:\n        yield lst\n\n# Пример использования\nnested_list = [1, [2, 3], [4, [5, 6]], 7]\nfor item in my_func_2(nested_list):\n    print(item)\n",
      "metadata": {
        "trusted": true
      },
      "outputs": [
        {
          "name": "stdout",
          "text": "1\n2\n3\n4\n5\n6\n7\n",
          "output_type": "stream"
        }
      ],
      "execution_count": 4
    },
    {
      "cell_type": "markdown",
      "source": "5.С помощью механизма map/filter/reduce (хотя бы одна из этих функций должна быть использована в решении) посчитать в тексте количество слов, состоящих не менее, чем из 3-х букв. Слова в тексте разделены пробелами. Написать реализацию в одну строку. Оформить решение в виде функции my_func_3(text), т.е. шаблон таков:\n\nстрока с import, если необходимо def my_func_3(text): return # однострочная реализация задания",
      "metadata": {}
    },
    {
      "cell_type": "code",
      "source": "# Решение 5.\ndef my_func_3(text):\n    return len(list(filter(lambda word: len(word) >= 3, text.split())))\n\n# Пример использования\ntext = \"This is a sample text with some words of different lengths\"\nprint(my_func_3(text))\n",
      "metadata": {
        "trusted": true
      },
      "outputs": [
        {
          "name": "stdout",
          "text": "8\n",
          "output_type": "stream"
        }
      ],
      "execution_count": 5
    },
    {
      "cell_type": "code",
      "source": "",
      "metadata": {
        "trusted": true
      },
      "outputs": [],
      "execution_count": null
    }
  ]
}