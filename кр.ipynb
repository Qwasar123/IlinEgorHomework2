Кр Ильин Егор Андреевич ТРПО23-2 
ВАРИАНТ 1

задание 1
string = 'ten,one,five,two,three,four'

words = string.split(',')
dictionary = {}

for i, word in enumerate(words, start=1):
    dictionary[word] = f'номер {i} в строке'

print(dictionary)



задание 2 
def remove_duplicates(phones_list):
    result = []
    for contact in phones_list:
        is_duplicate = False
        for saved_contact in result:
            if (contact['name'] == saved_contact['name'] and
                    contact['city'] == saved_contact['city']):

                # Добавляем только новые номера телефонов
                for phone in contact['phones']:
                    if phone not in saved_contact['phones']:
                        saved_contact['phones'].append(phone)

                is_duplicate = True
                break

        if not is_duplicate:
            result.append(contact)

    return result
n = [{'name' :'Ivan', 'city' :'Moscow', 'phones' :['232-19-55', '+7 (916) 230-00-75']},
               {'name' :'Anna', 'city' :'Samara', 'phones' :['200-11-15']},
               {'name' :'Anna', 'city' :'Vologda', 'phones' :['+7 (931) 711-00-75']},
               {'name' :'Nikolay', 'city' :'Moscow', 'phones' :['+7 (916) 778-71-05', '331-66-11', '783-33-85']},
               {'name' :'Ivan', 'city' :'Moscow', 'phones' :['+7 (916) 205-41-05', '232-19-55']},
               {'name' :'Anna', 'city' :'Samara', 'phones' :['+7 (916) 105-13-56']}
               ]


result = remove_duplicates(n)
print(result)


Задание 3
lst = [1, 2, 'a', 3, 4, 'b', 'c', 'd', 'e']
result = {lst[i]: lst[i+2] if i+2 < len(lst) else 0 for i in range(2, len(lst), 2)}
print(result)

Задание 4

from tkinter import *


class Main(Frame):
    def __init__(self, root):
        super(Main, self).__init__(root)
        self.build()

    def build(self):
        self.formula = "0"
        self.lbl = Label(text=self.formula, font=("Times New Roman", 21, "bold"), bg="#000", foreground="#FFF")
        self.lbl.place(x=11, y=50)

        btns = [
            "C", "DEL", "*", "=",
            "1", "2", "3", "/",
            "4", "5", "6", "+",
            "7", "8", "9", "-",
            "(", "0", ")", "X^2"
        ]

        x = 10
        y = 140
        for bt in btns:
            com = lambda x=bt: self.logicalc(x)
            Button(text=bt, bg="#FFF",
                   font=("Times New Roman", 15),
                   command=com).place(x=x, y=y,
                                      width=115,
                                      height=79)
            x += 117
            if x > 400:
                x = 10
                y += 81

    def logicalc(self, operation):
        if operation == "C":
            self.formula = ""
        elif operation == "DEL":
            self.formula = self.formula[0:-1]
        elif operation == "X^2":
            self.formula = str((eval(self.formula))**2)
        elif operation == "=":
            self.formula = str(eval(self.formula))
        else:
            if self.formula == "0":
                self.formula = ""
            self.formula += operation
        self.update()

    def update(self):
        if self.formula == "":
            self.formula = "0"
        self.lbl.configure(text=self.formula)


if __name__ == '__main__':
    root = Tk()
    root["bg"] = "#000"
    root.geometry("485x550+200+200")
    root.title("Калькулятор")
    root.resizable(False, False)
    app = Main(root)
    app.pack()
    root.mainloop()

