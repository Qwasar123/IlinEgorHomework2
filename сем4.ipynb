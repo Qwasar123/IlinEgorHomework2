Задание 1:
string1 = "hello"
string2 = "world"
common_chars = ""

for char in string1:
    if char in string2:
        common_chars += char

print(common_chars)



Задание 2:
def double_factorial(n):
    result = 1
    while n > 1:
        result *= n
        n -= 2
    return result
Вызываем функцию и выводим результат для 7:
number = 7
result = double_factorial(number)
print(f"{number}!! = {result}")
--------------
7!! = 105



Задание 3:
def double_factorial(n):
    result = 1
    for i in range(n, 0, -2):
        result *= i
    return result
Вызываем функцию и выводим результат для 7:
number = 7
result = double_factorial(number)
print(f"{number}!! = {result}")
---------------
7!! = 105



Задание 4:
def is_prime(n):
    if n < 2:
        return False
    for i in range(2, int(n**0.5) + 1):
        if n % i == 0:
            return False
    return True

def print_primes(a, b):
    for number in range(a, b+1):
        for i in range(2, int(number**0.5) + 1):
            if number % i == 0:
                break
        else:
            print(number)

a = 1
b = 20
print(f"Простые числа в интервале [{a}, {b}]:")
print_primes(a, b)

#интервал задавать в переменных a и b


Задание 5: 
while True:
    user_input = input("Введите значение: ")
    
    if user_input == "STOP":
        print("Program interrupted by user")
        break
    
    if user_input < "a":
        print("Too early in the dictionary. Try again!")
        continue
    
    formatted_string = "{:_^30}".format(user_input)
    print(f"Отформатированная строка: {formatted_string}")
    break



Задание 6:
def print_divisible_chars(string):
    length = len(string)
    result = ""
    
    for i, char in enumerate(string, start=1):
        if length % i == 0:
            result += char
    
    print(result)

string = "Hello world!"
print_divisible_chars(string)

Задание 7
str1 = "Hello world!"
str2 = 'HERD'
str2_lower = str2.lower()
for idx, char in enumerate(str1, 1):
    if char.lower() in str2_lower:
        modified_str2 = str2_lower.replace(char.lower(), char.upper(), 1)
        print(f"{idx} символ встречается в строке поиска: {modified_str2}")
     


